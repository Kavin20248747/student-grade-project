{
 "cells": [
  {
   "cell_type": "code",
   "execution_count": 4,
   "id": "b8f9b504-20c6-4253-a201-cb4c1a2a838b",
   "metadata": {},
   "outputs": [
    {
     "name": "stdin",
     "output_type": "stream",
     "text": [
      "English 55\n",
      "Tamil 70\n",
      "Mathemathics 35\n",
      "Science 82\n",
      "Social studies 80\n"
     ]
    },
    {
     "name": "stdout",
     "output_type": "stream",
     "text": [
      "Grade C\n"
     ]
    }
   ],
   "source": [
    "a=int(input(\"English\"))\n",
    "b=int(input(\"Tamil\"))\n",
    "c=int(input(\"Mathemathics\"))\n",
    "d=int(input(\"Science\"))\n",
    "e=int(input(\"Social studies\"))\n",
    "marks=((a+b+c+d+e) / 5)\n",
    "if(marks>=90):\n",
    "    print(\"Grade A\")\n",
    "elif(marks>=75):\n",
    "    print(\"Grade B\")\n",
    "elif(marks>=55):\n",
    "    print(\"Grade C\")\n",
    "else:\n",
    "    print(\"Fail\")\n"
   ]
  }
 ],
 "metadata": {
  "kernelspec": {
   "display_name": "Python 3 (ipykernel)",
   "language": "python",
   "name": "python3"
  },
  "language_info": {
   "codemirror_mode": {
    "name": "ipython",
    "version": 3
   },
   "file_extension": ".py",
   "mimetype": "text/x-python",
   "name": "python",
   "nbconvert_exporter": "python",
   "pygments_lexer": "ipython3",
   "version": "3.12.7"
  }
 },
 "nbformat": 4,
 "nbformat_minor": 5
}
