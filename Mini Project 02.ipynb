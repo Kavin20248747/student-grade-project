{
 "cells": [
  {
   "cell_type": "code",
   "execution_count": 4,
   "id": "f8e0042f-8718-4430-ae49-d9a8d56d01eb",
   "metadata": {},
   "outputs": [
    {
     "name": "stdin",
     "output_type": "stream",
     "text": [
      "Computer Science 89\n",
      "Physics 88\n",
      "Chemistry 87\n"
     ]
    },
    {
     "name": "stdout",
     "output_type": "stream",
     "text": [
      "Total mark: 264\n",
      "Total Average: 88.0\n",
      "Good Student\n"
     ]
    }
   ],
   "source": [
    "a=int(input(\"Computer Science\"))\n",
    "b=int(input(\"Physics\"))\n",
    "c=int(input(\"Chemistry\"))\n",
    "mark=(a+b+c)\n",
    "average=mark/3\n",
    "print(\"Total mark:\",mark)\n",
    "print(\"Total Average:\",average)\n",
    "if(mark>=85):\n",
    "    print(\"Good Student\")\n",
    "elif(mark>=70):\n",
    "    print(\"Average Student\")\n",
    "else:\n",
    "    print(\"Poor Student\")"
   ]
  }
 ],
 "metadata": {
  "kernelspec": {
   "display_name": "Python 3 (ipykernel)",
   "language": "python",
   "name": "python3"
  },
  "language_info": {
   "codemirror_mode": {
    "name": "ipython",
    "version": 3
   },
   "file_extension": ".py",
   "mimetype": "text/x-python",
   "name": "python",
   "nbconvert_exporter": "python",
   "pygments_lexer": "ipython3",
   "version": "3.12.7"
  }
 },
 "nbformat": 4,
 "nbformat_minor": 5
}
